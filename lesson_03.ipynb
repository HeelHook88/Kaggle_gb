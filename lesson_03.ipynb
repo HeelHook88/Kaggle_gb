{
 "cells": [
  {
   "cell_type": "code",
   "execution_count": 1,
   "id": "bridal-particle",
   "metadata": {},
   "outputs": [],
   "source": [
    "import warnings\n",
    "from tqdm import tqdm\n",
    "from typing import List, Tuple\n",
    "\n",
    "import numpy as np\n",
    "import pandas as pd\n",
    "import seaborn as sns\n",
    "import xgboost as xgb\n",
    "import lightgbm as lgb\n",
    "import matplotlib.pyplot as plt\n",
    "from scipy.stats import ttest_rel\n",
    "\n",
    "from sklearn.ensemble import RandomForestRegressor\n",
    "from sklearn.model_selection import KFold, StratifiedKFold, train_test_split, cross_val_score\n",
    "warnings.simplefilter(\"ignore\")\n",
    "%matplotlib inline\n",
    "\n",
    "from sklearn.metrics import f1_score, roc_auc_score, precision_score, classification_report, precision_recall_curve, confusion_matrix"
   ]
  },
  {
   "cell_type": "code",
   "execution_count": 2,
   "id": "sitting-winter",
   "metadata": {},
   "outputs": [],
   "source": [
    "train = pd.read_csv('../data/assignment_2_train.csv')\n",
    "\n",
    "test = pd.read_csv('../data/assignment_2_test.csv')"
   ]
  },
  {
   "cell_type": "code",
   "execution_count": null,
   "id": "academic-interim",
   "metadata": {},
   "outputs": [],
   "source": []
  },
  {
   "cell_type": "code",
   "execution_count": 3,
   "id": "accessory-founder",
   "metadata": {},
   "outputs": [
    {
     "data": {
      "text/html": [
       "<div>\n",
       "<style scoped>\n",
       "    .dataframe tbody tr th:only-of-type {\n",
       "        vertical-align: middle;\n",
       "    }\n",
       "\n",
       "    .dataframe tbody tr th {\n",
       "        vertical-align: top;\n",
       "    }\n",
       "\n",
       "    .dataframe thead th {\n",
       "        text-align: right;\n",
       "    }\n",
       "</style>\n",
       "<table border=\"1\" class=\"dataframe\">\n",
       "  <thead>\n",
       "    <tr style=\"text-align: right;\">\n",
       "      <th></th>\n",
       "      <th>TransactionID</th>\n",
       "      <th>isFraud</th>\n",
       "      <th>TransactionDT</th>\n",
       "      <th>TransactionAmt</th>\n",
       "      <th>ProductCD</th>\n",
       "      <th>card1</th>\n",
       "      <th>card2</th>\n",
       "      <th>card3</th>\n",
       "      <th>card4</th>\n",
       "      <th>card5</th>\n",
       "      <th>...</th>\n",
       "      <th>V330</th>\n",
       "      <th>V331</th>\n",
       "      <th>V332</th>\n",
       "      <th>V333</th>\n",
       "      <th>V334</th>\n",
       "      <th>V335</th>\n",
       "      <th>V336</th>\n",
       "      <th>V337</th>\n",
       "      <th>V338</th>\n",
       "      <th>V339</th>\n",
       "    </tr>\n",
       "  </thead>\n",
       "  <tbody>\n",
       "    <tr>\n",
       "      <th>0</th>\n",
       "      <td>2987000</td>\n",
       "      <td>0</td>\n",
       "      <td>86400</td>\n",
       "      <td>68.5</td>\n",
       "      <td>W</td>\n",
       "      <td>13926</td>\n",
       "      <td>NaN</td>\n",
       "      <td>150.0</td>\n",
       "      <td>discover</td>\n",
       "      <td>142.0</td>\n",
       "      <td>...</td>\n",
       "      <td>NaN</td>\n",
       "      <td>NaN</td>\n",
       "      <td>NaN</td>\n",
       "      <td>NaN</td>\n",
       "      <td>NaN</td>\n",
       "      <td>NaN</td>\n",
       "      <td>NaN</td>\n",
       "      <td>NaN</td>\n",
       "      <td>NaN</td>\n",
       "      <td>NaN</td>\n",
       "    </tr>\n",
       "    <tr>\n",
       "      <th>1</th>\n",
       "      <td>2987001</td>\n",
       "      <td>0</td>\n",
       "      <td>86401</td>\n",
       "      <td>29.0</td>\n",
       "      <td>W</td>\n",
       "      <td>2755</td>\n",
       "      <td>404.0</td>\n",
       "      <td>150.0</td>\n",
       "      <td>mastercard</td>\n",
       "      <td>102.0</td>\n",
       "      <td>...</td>\n",
       "      <td>NaN</td>\n",
       "      <td>NaN</td>\n",
       "      <td>NaN</td>\n",
       "      <td>NaN</td>\n",
       "      <td>NaN</td>\n",
       "      <td>NaN</td>\n",
       "      <td>NaN</td>\n",
       "      <td>NaN</td>\n",
       "      <td>NaN</td>\n",
       "      <td>NaN</td>\n",
       "    </tr>\n",
       "    <tr>\n",
       "      <th>2</th>\n",
       "      <td>2987002</td>\n",
       "      <td>0</td>\n",
       "      <td>86469</td>\n",
       "      <td>59.0</td>\n",
       "      <td>W</td>\n",
       "      <td>4663</td>\n",
       "      <td>490.0</td>\n",
       "      <td>150.0</td>\n",
       "      <td>visa</td>\n",
       "      <td>166.0</td>\n",
       "      <td>...</td>\n",
       "      <td>NaN</td>\n",
       "      <td>NaN</td>\n",
       "      <td>NaN</td>\n",
       "      <td>NaN</td>\n",
       "      <td>NaN</td>\n",
       "      <td>NaN</td>\n",
       "      <td>NaN</td>\n",
       "      <td>NaN</td>\n",
       "      <td>NaN</td>\n",
       "      <td>NaN</td>\n",
       "    </tr>\n",
       "    <tr>\n",
       "      <th>3</th>\n",
       "      <td>2987003</td>\n",
       "      <td>0</td>\n",
       "      <td>86499</td>\n",
       "      <td>50.0</td>\n",
       "      <td>W</td>\n",
       "      <td>18132</td>\n",
       "      <td>567.0</td>\n",
       "      <td>150.0</td>\n",
       "      <td>mastercard</td>\n",
       "      <td>117.0</td>\n",
       "      <td>...</td>\n",
       "      <td>NaN</td>\n",
       "      <td>NaN</td>\n",
       "      <td>NaN</td>\n",
       "      <td>NaN</td>\n",
       "      <td>NaN</td>\n",
       "      <td>NaN</td>\n",
       "      <td>NaN</td>\n",
       "      <td>NaN</td>\n",
       "      <td>NaN</td>\n",
       "      <td>NaN</td>\n",
       "    </tr>\n",
       "    <tr>\n",
       "      <th>4</th>\n",
       "      <td>2987004</td>\n",
       "      <td>0</td>\n",
       "      <td>86506</td>\n",
       "      <td>50.0</td>\n",
       "      <td>H</td>\n",
       "      <td>4497</td>\n",
       "      <td>514.0</td>\n",
       "      <td>150.0</td>\n",
       "      <td>mastercard</td>\n",
       "      <td>102.0</td>\n",
       "      <td>...</td>\n",
       "      <td>0.0</td>\n",
       "      <td>0.0</td>\n",
       "      <td>0.0</td>\n",
       "      <td>0.0</td>\n",
       "      <td>0.0</td>\n",
       "      <td>0.0</td>\n",
       "      <td>0.0</td>\n",
       "      <td>0.0</td>\n",
       "      <td>0.0</td>\n",
       "      <td>0.0</td>\n",
       "    </tr>\n",
       "  </tbody>\n",
       "</table>\n",
       "<p>5 rows × 394 columns</p>\n",
       "</div>"
      ],
      "text/plain": [
       "   TransactionID  isFraud  TransactionDT  TransactionAmt ProductCD  card1  \\\n",
       "0        2987000        0          86400            68.5         W  13926   \n",
       "1        2987001        0          86401            29.0         W   2755   \n",
       "2        2987002        0          86469            59.0         W   4663   \n",
       "3        2987003        0          86499            50.0         W  18132   \n",
       "4        2987004        0          86506            50.0         H   4497   \n",
       "\n",
       "   card2  card3       card4  card5  ... V330  V331  V332  V333  V334 V335  \\\n",
       "0    NaN  150.0    discover  142.0  ...  NaN   NaN   NaN   NaN   NaN  NaN   \n",
       "1  404.0  150.0  mastercard  102.0  ...  NaN   NaN   NaN   NaN   NaN  NaN   \n",
       "2  490.0  150.0        visa  166.0  ...  NaN   NaN   NaN   NaN   NaN  NaN   \n",
       "3  567.0  150.0  mastercard  117.0  ...  NaN   NaN   NaN   NaN   NaN  NaN   \n",
       "4  514.0  150.0  mastercard  102.0  ...  0.0   0.0   0.0   0.0   0.0  0.0   \n",
       "\n",
       "  V336  V337  V338  V339  \n",
       "0  NaN   NaN   NaN   NaN  \n",
       "1  NaN   NaN   NaN   NaN  \n",
       "2  NaN   NaN   NaN   NaN  \n",
       "3  NaN   NaN   NaN   NaN  \n",
       "4  0.0   0.0   0.0   0.0  \n",
       "\n",
       "[5 rows x 394 columns]"
      ]
     },
     "execution_count": 3,
     "metadata": {},
     "output_type": "execute_result"
    }
   ],
   "source": [
    "train.head()"
   ]
  },
  {
   "cell_type": "code",
   "execution_count": 4,
   "id": "filled-trance",
   "metadata": {},
   "outputs": [
    {
     "name": "stdout",
     "output_type": "stream",
     "text": [
      "data.shape = 180000 rows, 393 cols\n"
     ]
    }
   ],
   "source": [
    "X = train.drop(['isFraud'], axis=1)\n",
    "y = train['isFraud']\n",
    "print(\"data.shape = {} rows, {} cols\".format(*X.shape))"
   ]
  },
  {
   "cell_type": "code",
   "execution_count": 5,
   "id": "domestic-favorite",
   "metadata": {},
   "outputs": [
    {
     "name": "stdout",
     "output_type": "stream",
     "text": [
      "data.shape = 100001 rows, 394 cols\n"
     ]
    }
   ],
   "source": [
    "X_leader_board = test.drop(['isFraud'], axis=1)\n",
    "y_leader_board = test['isFraud']\n",
    "print(\"data.shape = {} rows, {} cols\".format(*test.shape))"
   ]
  },
  {
   "cell_type": "code",
   "execution_count": 6,
   "id": "following-ferry",
   "metadata": {},
   "outputs": [],
   "source": [
    "def feature_selector(X):\n",
    "    numerical_features = X.select_dtypes(include=[np.number])\n",
    "    numerical_features = numerical_features.columns.tolist()\n",
    "    \n",
    "    cat_features = X.select_dtypes(include=[np.object])\n",
    "    cat_features = cat_features.columns.tolist()\n",
    "    \n",
    "    dummies_features = pd.get_dummies(X[cat_features])\n",
    "    X = pd.concat([X, dummies_features], axis=1)\n",
    "    dummies_features = dummies_features.columns.tolist()\n",
    "    X = X.drop(cat_features, axis=1)\n",
    "    return X"
   ]
  },
  {
   "cell_type": "code",
   "execution_count": 7,
   "id": "universal-construction",
   "metadata": {},
   "outputs": [],
   "source": [
    "def train_test_split_by_quantile(X,y, quantile):\n",
    "    indx = X[\"TransactionID\"].quantile(quantile).round().astype(int)\n",
    "    x_train = X[X[\"TransactionID\"] <= indx]\n",
    "    x_test = X[X[\"TransactionID\"] > indx]\n",
    "    y_train = y[:len(x_train)]\n",
    "    y_test = y[len(x_train):]\n",
    "    \n",
    "    return x_train, x_test, y_train, y_test"
   ]
  },
  {
   "cell_type": "code",
   "execution_count": 8,
   "id": "psychological-apparel",
   "metadata": {
    "tags": []
   },
   "outputs": [],
   "source": [
    "def create_bootstrap_samples(data: np.array, n_samples: int = 2000) -> np.array:\n",
    "    \"\"\"\n",
    "    Создание бутстреп-выборок.\n",
    "\n",
    "    Parameters\n",
    "    ----------\n",
    "    data: np.array\n",
    "        Исходная выборка, которая будет использоваться для\n",
    "        создания бутстреп выборок.\n",
    "\n",
    "    n_samples: int, optional, default = 1000\n",
    "        Количество создаваемых бутстреп выборок.\n",
    "        Опциональный параметр, по умолчанию, равен 1000.\n",
    "\n",
    "    Returns\n",
    "    -------\n",
    "    bootstrap_idx: np.array\n",
    "        Матрица индексов, для создания бутстреп выборок.\n",
    "\n",
    "    \"\"\"\n",
    "    bootstrap_idx = np.random.randint(\n",
    "        low=0, high=len(data), size=(n_samples, len(data))\n",
    "    )\n",
    "    return bootstrap_idx\n",
    "\n",
    "\n",
    "def create_bootstrap_metrics(y_true: np.array,\n",
    "                             y_pred: np.array,\n",
    "                             metric: callable,\n",
    "                             n_samlpes: int = 1000) -> List[float]:\n",
    "    \"\"\"\n",
    "    Вычисление бутстреп оценок.\n",
    "\n",
    "    Parameters\n",
    "    ----------\n",
    "    y_true: np.array\n",
    "        Вектор целевой переменной.\n",
    "\n",
    "    y_pred: np.array\n",
    "        Вектор прогнозов.\n",
    "\n",
    "    metric: callable\n",
    "        Функция для вычисления метрики.\n",
    "        Функция должна принимать 2 аргумента: y_true, y_pred.\n",
    "\n",
    "    n_samples: int, optional, default = 1000\n",
    "        Количество создаваемых бутстреп выборок.\n",
    "        Опциональный параметр, по умолчанию, равен 1000.\n",
    "\n",
    "    Returns\n",
    "    -------\n",
    "    bootstrap_metrics: List[float]\n",
    "        Список со значениями метрики качества на каждой бустреп выборке.\n",
    "\n",
    "    \"\"\"\n",
    "    scores = []\n",
    "\n",
    "    if isinstance(y_true, pd.Series):\n",
    "        y_true = y_true.values\n",
    "\n",
    "    bootstrap_idx = create_bootstrap_samples(y_true)\n",
    "    for idx in bootstrap_idx:\n",
    "        y_true_bootstrap = y_true[idx]\n",
    "        y_pred_bootstrap = y_pred[idx]\n",
    "\n",
    "        score = metric(y_true_bootstrap, y_pred_bootstrap)\n",
    "        scores.append(score)\n",
    "\n",
    "    return scores\n",
    "\n",
    "\n",
    "def calculate_confidence_interval(scores: list, conf_interval: float = 0.95) -> Tuple[float]:\n",
    "    \"\"\"\n",
    "    Вычисление доверительного интервала.\n",
    "\n",
    "    Parameters\n",
    "    ----------\n",
    "    scores: List[float / int]\n",
    "        Список с оценками изучаемой величины.\n",
    "\n",
    "    conf_interval: float, optional, default = 0.95\n",
    "        Уровень доверия для построения интервала.\n",
    "        Опциональный параметр, по умолчанию, равен 0.95.\n",
    "\n",
    "    Returns\n",
    "    -------\n",
    "    conf_interval: Tuple[float]\n",
    "        Кортеж с границами доверительного интервала.\n",
    "\n",
    "    \"\"\"\n",
    "    left_bound = np.percentile(\n",
    "        scores, ((1 - conf_interval) / 2) * 100\n",
    "    )\n",
    "    right_bound = np.percentile(\n",
    "        scores, (conf_interval + ((1 - conf_interval) / 2)) * 100\n",
    "    )\n",
    "\n",
    "    return left_bound, right_bound\n"
   ]
  },
  {
   "cell_type": "code",
   "execution_count": 9,
   "id": "knowing-remedy",
   "metadata": {
    "tags": []
   },
   "outputs": [],
   "source": [
    "X = feature_selector(X)\n",
    "X_leader_board = feature_selector(X_leader_board)"
   ]
  },
  {
   "cell_type": "code",
   "execution_count": 10,
   "id": "ordered-cherry",
   "metadata": {},
   "outputs": [],
   "source": [
    "drop_features = list(set(X) - set(X_leader_board))\n",
    "X = X.drop(drop_features, axis=1)"
   ]
  },
  {
   "cell_type": "code",
   "execution_count": null,
   "id": "acceptable-devil",
   "metadata": {},
   "outputs": [],
   "source": []
  },
  {
   "cell_type": "code",
   "execution_count": 11,
   "id": "military-serve",
   "metadata": {
    "tags": []
   },
   "outputs": [],
   "source": [
    "x_train, x_valid, y_train, y_valid = train_test_split_by_quantile(X, y, 0.75)"
   ]
  },
  {
   "cell_type": "code",
   "execution_count": 12,
   "id": "filled-single",
   "metadata": {},
   "outputs": [
    {
     "name": "stdout",
     "output_type": "stream",
     "text": [
      "Размерности x_train (135000, 526)\n",
      "Размерности y_train (135000,)\n",
      "Размерности x_valid (45000, 526)\n",
      "Размерности y_valid (45000,)\n",
      "Размерности x_leader_board (100001, 526)\n",
      "Размерности y_leader_board (100001,)\n"
     ]
    }
   ],
   "source": [
    "print(f\"Размерности x_train {x_train.shape}\")\n",
    "print(f\"Размерности y_train {y_train.shape}\")\n",
    "print(f\"Размерности x_valid {x_valid.shape}\")\n",
    "print(f\"Размерности y_valid {y_valid.shape}\")\n",
    "print(f\"Размерности x_leader_board {X_leader_board.shape}\")\n",
    "print(f\"Размерности y_leader_board {y_leader_board.shape}\")"
   ]
  },
  {
   "cell_type": "markdown",
   "id": "informational-parameter",
   "metadata": {},
   "source": [
    "Задание 1: сделать Hold-Out валидацию с разбиением, размер которого будет адеквтаным, по вашему мнению; разбиение проводить по id-транзакции (TransactionID), обучать модель градиетного бустинга любой реализации с подбором числа деревьев по early_stopping критерию до достижения сходимости. Оценить качество модели на валидационной выборке, оценить расхождение по сравнению с качеством на обучающей выборке и валидационной выборке. Оценить качество на ЛБ, сравнить с качеством на обучении и валидации. Сделать выводы."
   ]
  },
  {
   "cell_type": "code",
   "execution_count": 13,
   "id": "prompt-toronto",
   "metadata": {},
   "outputs": [],
   "source": [
    "params = {\n",
    "    \"boosting_type\": \"gbdt\",\n",
    "    \"objective\": \"binary\",\n",
    "    \"metric\": \"auc\",\n",
    "    \"num_leaves\":20,\n",
    "    \"lambda_l2\":400,\n",
    "    \"learning_rate\": 0.2,\n",
    "    \"n_estimators\": 300,\n",
    "    \"n_jobs\": -1,\n",
    "    \"seed\": 27\n",
    "}"
   ]
  },
  {
   "cell_type": "code",
   "execution_count": 14,
   "id": "complex-governor",
   "metadata": {},
   "outputs": [
    {
     "name": "stdout",
     "output_type": "stream",
     "text": [
      "[LightGBM] [Warning] Find whitespaces in feature_names, replace with underlines\n",
      "[LightGBM] [Info] Number of positive: 3441, number of negative: 131559\n",
      "[LightGBM] [Warning] Auto-choosing row-wise multi-threading, the overhead of testing was 0.061689 seconds.\n",
      "You can set `force_row_wise=true` to remove the overhead.\n",
      "And if memory is not enough, you can set `force_col_wise=true`.\n",
      "[LightGBM] [Info] Total Bins 32043\n",
      "[LightGBM] [Info] Number of data points in the train set: 135000, number of used features: 498\n",
      "[LightGBM] [Warning] Find whitespaces in feature_names, replace with underlines\n",
      "[LightGBM] [Info] [binary:BoostFromScore]: pavg=0.025489 -> initscore=-3.643693\n",
      "[LightGBM] [Info] Start training from score -3.643693\n",
      "Training until validation scores don't improve for 50 rounds\n",
      "[200]\ttraining's auc: 0.946481\tvalid_1's auc: 0.900623\n",
      "Did not meet early stopping. Best iteration is:\n",
      "[300]\ttraining's auc: 0.956366\tvalid_1's auc: 0.903935\n",
      "CPU times: user 2min 40s, sys: 3.73 s, total: 2min 44s\n",
      "Wall time: 15 s\n"
     ]
    }
   ],
   "source": [
    "%%time\n",
    "dtrain = lgb.Dataset(\n",
    "    data=x_train, label=y_train\n",
    ")\n",
    "dvalid = lgb.Dataset(\n",
    "    data=x_valid, label=y_valid\n",
    ")\n",
    "\n",
    "model = lgb.train(\n",
    "    params=params,\n",
    "    train_set=dtrain,\n",
    "    num_boost_round=500,\n",
    "    valid_sets=[dtrain, dvalid],\n",
    "    categorical_feature=\"auto\",\n",
    "    early_stopping_rounds=50,\n",
    "    verbose_eval=200\n",
    ")"
   ]
  },
  {
   "cell_type": "code",
   "execution_count": 15,
   "id": "classical-visiting",
   "metadata": {},
   "outputs": [
    {
     "name": "stdout",
     "output_type": "stream",
     "text": [
      "Train-score: 0.956, Validation-score: 0.904, Leader_board-score: 0.867\n"
     ]
    }
   ],
   "source": [
    "train_score = roc_auc_score(y_train, model.predict(x_train))\n",
    "valid_score = roc_auc_score(y_valid, model.predict(x_valid))\n",
    "leader_board = roc_auc_score(y_leader_board, model.predict(X_leader_board))\n",
    "\n",
    "print(f\"Train-score: {round(train_score, 3)}, Validation-score: {round(valid_score, 3)}, Leader_board-score: {round(leader_board, 3)}\")"
   ]
  },
  {
   "cell_type": "markdown",
   "id": "persistent-humanitarian",
   "metadata": {},
   "source": [
    "Вывод: Результат на трейне очень похож на переобучение , нужно увеличить регуляцию. Результаты на валидационной и тестовой скорее всего отличаются тем что в них разные распределения признаков. Об этом говорит то что при dummie кодировании размерность не совпадала и в тестовых данных признаке R_emaildomain имелись значения которых не было в трейне."
   ]
  },
  {
   "cell_type": "code",
   "execution_count": null,
   "id": "concerned-horizon",
   "metadata": {},
   "outputs": [],
   "source": []
  },
  {
   "cell_type": "markdown",
   "id": "correct-remainder",
   "metadata": {},
   "source": [
    "Задание 2: сделать Hold-Out валидацию с разбиением на 3 выборки, разбиение проводить по id-транзакции (TransactionID), размер каждой выборки подобрать самостоятельно. Повторить процедуру из п.1. для каждой выборки."
   ]
  },
  {
   "cell_type": "code",
   "execution_count": 16,
   "id": "flying-separate",
   "metadata": {},
   "outputs": [
    {
     "name": "stdout",
     "output_type": "stream",
     "text": [
      "Размерности x_train (126000, 526)\n",
      "Размерности y_train (126000,)\n",
      "Размерности x_valid (37800, 526)\n",
      "Размерности y_valid (37800,)\n",
      "Размерности x_test (16200, 526)\n",
      "Размерности y_test (16200,)\n",
      "Размерности x_leader_board (100001, 526)\n",
      "Размерности y_leader_board (100001,)\n"
     ]
    }
   ],
   "source": [
    "x_train, x_test, y_train, y_test = train_test_split_by_quantile(X, y, 0.70)\n",
    "x_valid, x_test, y_valid, y_test = train_test_split_by_quantile(x_test, y_test, 0.70)\n",
    "print(f\"Размерности x_train {x_train.shape}\")\n",
    "print(f\"Размерности y_train {y_train.shape}\")\n",
    "print(f\"Размерности x_valid {x_valid.shape}\")\n",
    "print(f\"Размерности y_valid {y_valid.shape}\")\n",
    "print(f\"Размерности x_test {x_test.shape}\")\n",
    "print(f\"Размерности y_test {y_test.shape}\")\n",
    "print(f\"Размерности x_leader_board {X_leader_board.shape}\")\n",
    "print(f\"Размерности y_leader_board {y_leader_board.shape}\")"
   ]
  },
  {
   "cell_type": "code",
   "execution_count": 17,
   "id": "incident-wilderness",
   "metadata": {},
   "outputs": [
    {
     "name": "stdout",
     "output_type": "stream",
     "text": [
      "[LightGBM] [Warning] Find whitespaces in feature_names, replace with underlines\n",
      "[LightGBM] [Info] Number of positive: 3096, number of negative: 122904\n",
      "[LightGBM] [Warning] Auto-choosing row-wise multi-threading, the overhead of testing was 0.057526 seconds.\n",
      "You can set `force_row_wise=true` to remove the overhead.\n",
      "And if memory is not enough, you can set `force_col_wise=true`.\n",
      "[LightGBM] [Info] Total Bins 31845\n",
      "[LightGBM] [Info] Number of data points in the train set: 126000, number of used features: 495\n",
      "[LightGBM] [Warning] Find whitespaces in feature_names, replace with underlines\n",
      "[LightGBM] [Info] [binary:BoostFromScore]: pavg=0.024571 -> initscore=-3.681293\n",
      "[LightGBM] [Info] Start training from score -3.681293\n",
      "Training until validation scores don't improve for 50 rounds\n",
      "[200]\ttraining's auc: 0.945638\tvalid_1's auc: 0.905364\n",
      "Did not meet early stopping. Best iteration is:\n",
      "[300]\ttraining's auc: 0.956304\tvalid_1's auc: 0.908129\n",
      "CPU times: user 2min 25s, sys: 3.58 s, total: 2min 28s\n",
      "Wall time: 13.5 s\n"
     ]
    }
   ],
   "source": [
    "%%time\n",
    "dtrain = lgb.Dataset(\n",
    "    data=x_train, label=y_train\n",
    ")\n",
    "dvalid = lgb.Dataset(\n",
    "    data=x_valid, label=y_valid\n",
    ")\n",
    "\n",
    "model = lgb.train(\n",
    "    params=params,\n",
    "    train_set=dtrain,\n",
    "    num_boost_round=500,\n",
    "    valid_sets=[dtrain, dvalid],\n",
    "    categorical_feature=\"auto\",\n",
    "    early_stopping_rounds=50,\n",
    "    verbose_eval=200\n",
    ")"
   ]
  },
  {
   "cell_type": "code",
   "execution_count": 18,
   "id": "undefined-modification",
   "metadata": {},
   "outputs": [
    {
     "name": "stdout",
     "output_type": "stream",
     "text": [
      "Train-score: 0.956, Validation-score: 0.908, test_score-score: 0.891 , Leader_board-score: 0.869\n"
     ]
    }
   ],
   "source": [
    "train_score = roc_auc_score(y_train, model.predict(x_train))\n",
    "valid_score = roc_auc_score(y_valid, model.predict(x_valid))\n",
    "test_score = roc_auc_score(y_test, model.predict(x_test))\n",
    "leader_board = roc_auc_score(y_leader_board, model.predict(X_leader_board))\n",
    "\n",
    "print(f\"Train-score: {round(train_score, 3)}, Validation-score: {round(valid_score, 3)}, test_score-score: {round(test_score, 3)} , Leader_board-score: {round(leader_board, 3)}\")"
   ]
  },
  {
   "cell_type": "code",
   "execution_count": null,
   "id": "loved-individual",
   "metadata": {},
   "outputs": [],
   "source": []
  },
  {
   "cell_type": "markdown",
   "id": "competent-flower",
   "metadata": {},
   "source": [
    "Задание 3: построить доверительный интервал на данных из п.2 на основе бутстреп выборок, оценить качество модели на ЛБ относительно полученного доверительного интервала. Сделать выводы."
   ]
  },
  {
   "cell_type": "code",
   "execution_count": null,
   "id": "alternative-reset",
   "metadata": {
    "tags": []
   },
   "outputs": [],
   "source": []
  },
  {
   "cell_type": "code",
   "execution_count": 19,
   "id": "precise-monitoring",
   "metadata": {},
   "outputs": [
    {
     "data": {
      "text/plain": [
       "(0.8754786104607368, 0.9050806535981787)"
      ]
     },
     "execution_count": 19,
     "metadata": {},
     "output_type": "execute_result"
    }
   ],
   "source": [
    "np.random.seed(27)\n",
    "scores = create_bootstrap_metrics(y_test, model.predict(x_test), roc_auc_score)\n",
    "\n",
    "calculate_confidence_interval(scores)"
   ]
  },
  {
   "cell_type": "code",
   "execution_count": 20,
   "id": "human-bundle",
   "metadata": {},
   "outputs": [
    {
     "data": {
      "text/plain": [
       "Text(0.5, 0, 'sample number')"
      ]
     },
     "execution_count": 20,
     "metadata": {},
     "output_type": "execute_result"
    },
    {
     "data": {
      "image/png": "[encoded data removed]",
      "text/plain": [
       "<Figure size 1080x360 with 2 Axes>"
      ]
     },
     "metadata": {
      "needs_background": "light"
     },
     "output_type": "display_data"
    }
   ],
   "source": [
    "fig, axes = plt.subplots(1, 2, figsize=(15, 5))\n",
    "plt.suptitle(\"Bootstrap for evaluating validation stability\", size=15)\n",
    "axes[1].scatter(range(len(scores)), scores, alpha=0.25, color=\"blue\")\n",
    "axes[1].set_xlabel(\"sample number\", size=15)\n",
    "axes[1].set_ylabel(\"roc_auc score\", size=15)\n",
    "\n",
    "sns.distplot(scores, ax=axes[0], color=\"green\", bins=20)\n",
    "axes[0].set_xlabel(\"sample number\", size=15)"
   ]
  },
  {
   "cell_type": "markdown",
   "id": "supported-traveler",
   "metadata": {},
   "source": [
    "Вывод : значение метрики на лидерборде меньше нижнего порога доверительного интервала. Это говорит о том что распределение признаков разное "
   ]
  },
  {
   "cell_type": "markdown",
   "id": "instant-entity",
   "metadata": {},
   "source": [
    "Задание 4: выполнить Adversarial Validation, подобрать объекты из обучающей выборки, которые сильно похожи на объекты из\n",
    "assignment_2_test.csv, и использовать их в качестве валидационного набора. Оценить качество модели на ЛБ, сделать выводы о полученных результатах."
   ]
  },
  {
   "cell_type": "code",
   "execution_count": 21,
   "id": "intelligent-marking",
   "metadata": {},
   "outputs": [],
   "source": [
    "X_adv = pd.concat([\n",
    "    x_train, X_leader_board\n",
    "])\n",
    "y_adv = np.hstack(\n",
    "    (np.ones(x_train.shape[0]), np.zeros(X_leader_board.shape[0])))\n",
    "\n",
    "X_adv = X_adv.reset_index(drop=True)"
   ]
  },
  {
   "cell_type": "code",
   "execution_count": 22,
   "id": "micro-niger",
   "metadata": {},
   "outputs": [
    {
     "name": "stdout",
     "output_type": "stream",
     "text": [
      "[21:07:24] WARNING: ../src/learner.cc:1061: Starting in XGBoost 1.3.0, the default evaluation metric used with the objective 'binary:logistic' was changed from 'error' to 'logloss'. Explicitly set eval_metric if you'd like to restore the old behavior.\n",
      "[21:07:30] WARNING: ../src/learner.cc:1061: Starting in XGBoost 1.3.0, the default evaluation metric used with the objective 'binary:logistic' was changed from 'error' to 'logloss'. Explicitly set eval_metric if you'd like to restore the old behavior.\n",
      "[21:07:36] WARNING: ../src/learner.cc:1061: Starting in XGBoost 1.3.0, the default evaluation metric used with the objective 'binary:logistic' was changed from 'error' to 'logloss'. Explicitly set eval_metric if you'd like to restore the old behavior.\n",
      "CV-score: 1.0\n",
      "CPU times: user 3min 7s, sys: 1.95 s, total: 3min 9s\n",
      "Wall time: 19.1 s\n"
     ]
    }
   ],
   "source": [
    "%%time\n",
    "parameters = {\"max_depth\": 4, \"n_estimators\": 50, \"random_state\": 27, \"n_jobs\": -1}\n",
    "model_xgb = xgb.XGBClassifier(**parameters)\n",
    "\n",
    "cv = cross_val_score(\n",
    "    estimator=model_xgb,\n",
    "    X=X_adv, y=y_adv,\n",
    "    scoring=\"roc_auc\",\n",
    "    cv=KFold(n_splits=3, shuffle=True, random_state=27)\n",
    ")\n",
    "\n",
    "print(f\"CV-score: {round(np.mean(cv), 4)}\")"
   ]
  },
  {
   "cell_type": "code",
   "execution_count": 23,
   "id": "pleasant-sudan",
   "metadata": {},
   "outputs": [
    {
     "name": "stdout",
     "output_type": "stream",
     "text": [
      "[21:07:43] WARNING: ../src/learner.cc:1061: Starting in XGBoost 1.3.0, the default evaluation metric used with the objective 'binary:logistic' was changed from 'error' to 'logloss'. Explicitly set eval_metric if you'd like to restore the old behavior.\n"
     ]
    },
    {
     "data": {
      "text/plain": [
       "Text(0.5, 1.0, 'Top Importance Features for Adversarial Validation (train vs leaderboard)')"
      ]
     },
     "execution_count": 23,
     "metadata": {},
     "output_type": "execute_result"
    },
    {
     "data": {
      "image/png": "[encoded data removed]",
      "text/plain": [
       "<Figure size 1440x360 with 1 Axes>"
      ]
     },
     "metadata": {
      "needs_background": "light"
     },
     "output_type": "display_data"
    }
   ],
   "source": [
    "model_xgb.fit(X_adv, y_adv)\n",
    "\n",
    "importance = pd.DataFrame({\n",
    "    \"feature\": X_adv.columns,\n",
    "    \"adversarial_importance\": model_xgb.feature_importances_\n",
    "})\n",
    "importance = importance.sort_values(by=\"adversarial_importance\", ascending=False)\n",
    "importance = importance.head(n=10)\n",
    "\n",
    "plt.figure(figsize=(20, 5))\n",
    "sns.barplot(x=importance[\"feature\"], y=importance[\"adversarial_importance\"], palette=\"viridis\")\n",
    "plt.title(\"Top Importance Features for Adversarial Validation (train vs leaderboard)\", size=14)"
   ]
  },
  {
   "cell_type": "markdown",
   "id": "collective-terrain",
   "metadata": {},
   "source": [
    "Распределения в выборках разные, модель не может разделить данные поэтому  roc_auc = 1"
   ]
  },
  {
   "cell_type": "markdown",
   "id": "lesbian-witness",
   "metadata": {},
   "source": [
    "Задание 5: сделать KFold / StratifiedKFold валидацию (на ваше усмотрение), оценить получаемые качество и разброс по метрике качества. Сделать выводы об устойчивости кросс-валидации, сходимости оценки на кросс-валидации и отложенном наборе данных; Оценить качество на ЛБ, сделать выводы."
   ]
  },
  {
   "cell_type": "code",
   "execution_count": null,
   "id": "global-temperature",
   "metadata": {},
   "outputs": [],
   "source": []
  },
  {
   "cell_type": "code",
   "execution_count": null,
   "id": "seeing-equilibrium",
   "metadata": {},
   "outputs": [],
   "source": []
  },
  {
   "cell_type": "code",
   "execution_count": 27,
   "id": "balanced-retail",
   "metadata": {},
   "outputs": [
    {
     "name": "stdout",
     "output_type": "stream",
     "text": [
      "[LightGBM] [Warning] lambda_l2 is set=400, reg_lambda=0.0 will be ignored. Current value: lambda_l2=400\n",
      "[LightGBM] [Warning] lambda_l2 is set=400, reg_lambda=0.0 will be ignored. Current value: lambda_l2=400\n",
      "[LightGBM] [Warning] lambda_l2 is set=400, reg_lambda=0.0 will be ignored. Current value: lambda_l2=400\n",
      "[LightGBM] [Warning] lambda_l2 is set=400, reg_lambda=0.0 will be ignored. Current value: lambda_l2=400\n",
      "[LightGBM] [Warning] lambda_l2 is set=400, reg_lambda=0.0 will be ignored. Current value: lambda_l2=400\n",
      "[0.90308956 0.91403562 0.79152915 0.76481922 0.89702472]\n",
      "CV-mean: 0.8541, CV-std: 0.0628\n",
      "CPU times: user 11min 16s, sys: 14.4 s, total: 11min 31s\n",
      "Wall time: 1min 4s\n"
     ]
    }
   ],
   "source": [
    "%%time\n",
    "cv_lgbm = cross_val_score(\n",
    "    estimator=lgb.LGBMClassifier(**params), X=X, y=y, scoring=\"roc_auc\", cv=5\n",
    ")\n",
    "print(cv_lgbm)\n",
    "print(f\"CV-mean: {round(np.mean(cv_lgbm), 4)}, CV-std: {round(np.std(cv_lgbm), 4)}\")"
   ]
  },
  {
   "cell_type": "code",
   "execution_count": null,
   "id": "violent-wireless",
   "metadata": {},
   "outputs": [],
   "source": []
  },
  {
   "cell_type": "code",
   "execution_count": null,
   "id": "complimentary-chicken",
   "metadata": {},
   "outputs": [],
   "source": []
  },
  {
   "cell_type": "markdown",
   "id": "intimate-assumption",
   "metadata": {},
   "source": [
    "Вывод : разброс очень большой, кросс-валидация не устойчивая. "
   ]
  },
  {
   "cell_type": "code",
   "execution_count": null,
   "id": "trained-husband",
   "metadata": {},
   "outputs": [],
   "source": []
  },
  {
   "cell_type": "code",
   "execution_count": null,
   "id": "sonic-acting",
   "metadata": {},
   "outputs": [],
   "source": []
  }
 ],
 "metadata": {
  "kernelspec": {
   "display_name": "Python 3",
   "language": "python",
   "name": "python3"
  },
  "language_info": {
   "codemirror_mode": {
    "name": "ipython",
    "version": 3
   },
   "file_extension": ".py",
   "mimetype": "text/x-python",
   "name": "python",
   "nbconvert_exporter": "python",
   "pygments_lexer": "ipython3",
   "version": "3.8.8"
  }
 },
 "nbformat": 4,
 "nbformat_minor": 5
}
