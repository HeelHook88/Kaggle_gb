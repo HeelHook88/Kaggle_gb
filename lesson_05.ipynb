{
 "cells": [
  {
   "cell_type": "code",
   "execution_count": 1,
   "id": "impaired-alcohol",
   "metadata": {},
   "outputs": [],
   "source": [
    "import warnings\n",
    "from tqdm import tqdm\n",
    "from typing import List, Tuple\n",
    "\n",
    "import numpy as np\n",
    "import pandas as pd\n",
    "import seaborn as sns\n",
    "import xgboost as xgb\n",
    "import lightgbm as lgb\n",
    "import catboost as cat\n",
    "import matplotlib.pyplot as plt\n",
    "from scipy.stats import ttest_rel\n",
    "\n",
    "from sklearn.preprocessing import StandardScaler\n",
    "from sklearn.preprocessing import OneHotEncoder\n",
    "\n",
    "from sklearn.base import BaseEstimator, TransformerMixin\n",
    "\n",
    "from scipy.sparse import hstack\n",
    "from sklearn.pipeline import Pipeline, make_pipeline\n",
    "from sklearn.pipeline import FeatureUnion\n",
    "\n",
    "\n",
    "\n",
    "\n",
    "from sklearn.ensemble import RandomForestRegressor\n",
    "from sklearn.model_selection import KFold, StratifiedKFold, train_test_split, cross_val_score\n",
    "warnings.simplefilter(\"ignore\")\n",
    "%matplotlib inline\n",
    "\n",
    "from sklearn.metrics import f1_score, roc_auc_score, precision_score, classification_report, precision_recall_curve, confusion_matrix"
   ]
  },
  {
   "cell_type": "code",
   "execution_count": 2,
   "id": "resistant-saudi",
   "metadata": {},
   "outputs": [],
   "source": [
    "train = pd.read_csv('../lesson_03/data/assignment_2_train.csv')\n",
    "test = pd.read_csv('../lesson_03/data/assignment_2_test.csv')"
   ]
  },
  {
   "cell_type": "code",
   "execution_count": 3,
   "id": "apart-hardware",
   "metadata": {},
   "outputs": [],
   "source": [
    "class ColumnSelector(BaseEstimator, TransformerMixin):\n",
    "    \"\"\"\n",
    "    Transformer to select a single column from the data frame to perform additional transformations on\n",
    "    \"\"\"\n",
    "    def __init__(self, key):\n",
    "        self.key = key\n",
    "\n",
    "    def fit(self, X, y=None):\n",
    "        return self\n",
    "\n",
    "    def transform(self, X):\n",
    "        return X[self.key]\n",
    "    \n",
    "class NumberSelector(BaseEstimator, TransformerMixin):\n",
    "    \"\"\"\n",
    "    Transformer to select a single column from the data frame to perform additional transformations on\n",
    "    Use on numeric columns in the data\n",
    "    \"\"\"\n",
    "    def __init__(self, key):\n",
    "        self.key = key\n",
    "\n",
    "    def fit(self, X, y=None):\n",
    "        return self\n",
    "\n",
    "    def transform(self, X):\n",
    "        return X[[self.key]]\n",
    "    \n",
    "class OHEEncoder(BaseEstimator, TransformerMixin):\n",
    "    def __init__(self, key):\n",
    "        self.key = key\n",
    "        self.columns = []\n",
    "\n",
    "    def fit(self, X, y=None):\n",
    "        self.columns = [col for col in pd.get_dummies(X, prefix=self.key).columns]\n",
    "        return self\n",
    "\n",
    "    def transform(self, X):\n",
    "        X = pd.get_dummies(X, prefix=self.key)\n",
    "        test_columns = [col for col in X.columns]\n",
    "        for col_ in test_columns:\n",
    "            if col_ not in self.columns:\n",
    "                X[col_] = 0\n",
    "        return X[self.columns]"
   ]
  },
  {
   "cell_type": "code",
   "execution_count": 4,
   "id": "connected-element",
   "metadata": {},
   "outputs": [],
   "source": [
    "def feature_selector(X):\n",
    "    numerical_features = X.select_dtypes(include=[np.number])\n",
    "    numerical_features = numerical_features.columns.tolist()\n",
    "    \n",
    "    cat_features = X.select_dtypes(include=[np.object])\n",
    "    cat_features = cat_features.columns.tolist()\n",
    "    \n",
    "    dummies_features = pd.get_dummies(X[cat_features])\n",
    "    X = pd.concat([X, dummies_features], axis=1)\n",
    "    dummies_features = dummies_features.columns.tolist()\n",
    "    X = X.drop(cat_features, axis=1)\n",
    "    return X"
   ]
  },
  {
   "cell_type": "code",
   "execution_count": 5,
   "id": "color-timber",
   "metadata": {},
   "outputs": [
    {
     "name": "stdout",
     "output_type": "stream",
     "text": [
      "data.shape = 180000 rows, 393 cols\n",
      "test.shape = 100001 rows, 394 cols\n"
     ]
    }
   ],
   "source": [
    "X = train.drop(['isFraud'], axis=1)\n",
    "y = train['isFraud']\n",
    "print(\"data.shape = {} rows, {} cols\".format(*X.shape))\n",
    "X_leader_board = test.drop(['isFraud'], axis=1)\n",
    "y_leader_board = test['isFraud']\n",
    "print(\"test.shape = {} rows, {} cols\".format(*test.shape))"
   ]
  },
  {
   "cell_type": "code",
   "execution_count": 6,
   "id": "disturbed-direction",
   "metadata": {},
   "outputs": [],
   "source": [
    "X = feature_selector(X)\n",
    "X_leader_board = feature_selector(X_leader_board)\n",
    "drop_features = list(set(X) - set(X_leader_board))\n",
    "X = X.drop(drop_features, axis=1)"
   ]
  },
  {
   "cell_type": "code",
   "execution_count": 7,
   "id": "cathedral-execution",
   "metadata": {},
   "outputs": [],
   "source": [
    "result = []"
   ]
  },
  {
   "cell_type": "code",
   "execution_count": 8,
   "id": "circular-earth",
   "metadata": {},
   "outputs": [
    {
     "name": "stdout",
     "output_type": "stream",
     "text": [
      "<class 'pandas.core.frame.DataFrame'>\n",
      "RangeIndex: 180000 entries, 0 to 179999\n",
      "Columns: 526 entries, TransactionID to M9_T\n",
      "dtypes: float64(376), int64(3), uint8(147)\n",
      "memory usage: 545.7 MB\n"
     ]
    }
   ],
   "source": [
    "X.info()"
   ]
  },
  {
   "cell_type": "code",
   "execution_count": null,
   "id": "expressed-muscle",
   "metadata": {},
   "outputs": [],
   "source": []
  },
  {
   "cell_type": "code",
   "execution_count": 9,
   "id": "promising-lotus",
   "metadata": {},
   "outputs": [],
   "source": [
    "x_train, x_valid, y_train, y_valid = train_test_split(X, \n",
    "                                                    y, test_size=0.3, random_state=0)"
   ]
  },
  {
   "cell_type": "markdown",
   "id": "declared-chinese",
   "metadata": {},
   "source": [
    "Задание 0: выбрать любую модель машнного обучения и зафиксировать любой тип валидации. Обучить базовую модель и зафиксировать базовое качество модели. В каждом следующем задании нужно будет обучить выбранную модель и оценивать ее качество на зафиксированной схеме валидации. После каждого задания, требуется сделать вывод о достигаемом качестве модели, по сравнению с качестом из предыдущего шага."
   ]
  },
  {
   "cell_type": "code",
   "execution_count": 10,
   "id": "catholic-minnesota",
   "metadata": {},
   "outputs": [],
   "source": [
    "cb_params = {\n",
    "    \"n_estimators\": 10000,\n",
    "    \"loss_function\": \"Logloss\",\n",
    "    \"eval_metric\": \"AUC\",\n",
    "    \"task_type\": \"CPU\",\n",
    "    \"learning_rate\":0.4,\n",
    "    \"max_bin\": 20,\n",
    "    \"verbose\": 200,\n",
    "    \"max_depth\": 6,\n",
    "    \"l2_leaf_reg\": 100,\n",
    "    \"early_stopping_rounds\": 50,\n",
    "    \"thread_count\": -1,\n",
    "    \"random_seed\": 42\n",
    "}\n"
   ]
  },
  {
   "cell_type": "code",
   "execution_count": 11,
   "id": "skilled-evolution",
   "metadata": {},
   "outputs": [
    {
     "name": "stdout",
     "output_type": "stream",
     "text": [
      "0:\ttest: 0.6896168\ttest1: 0.6928831\tbest: 0.6928831 (0)\ttotal: 110ms\tremaining: 18m 22s\n",
      "200:\ttest: 0.9245902\ttest1: 0.9102672\tbest: 0.9102672 (200)\ttotal: 8.72s\tremaining: 7m 5s\n",
      "400:\ttest: 0.9401757\ttest1: 0.9194672\tbest: 0.9195065 (398)\ttotal: 17.3s\tremaining: 6m 53s\n",
      "600:\ttest: 0.9497255\ttest1: 0.9264306\tbest: 0.9264306 (600)\ttotal: 25.8s\tremaining: 6m 42s\n",
      "800:\ttest: 0.9560197\ttest1: 0.9296019\tbest: 0.9296019 (800)\ttotal: 33.9s\tremaining: 6m 29s\n",
      "1000:\ttest: 0.9624965\ttest1: 0.9317158\tbest: 0.9317174 (999)\ttotal: 42.4s\tremaining: 6m 21s\n",
      "Stopped by overfitting detector  (50 iterations wait)\n",
      "\n",
      "bestTest = 0.9318084919\n",
      "bestIteration = 1007\n",
      "\n",
      "Shrink model to first 1008 iterations.\n",
      "CPU times: user 7min 19s, sys: 27.6 s, total: 7min 47s\n",
      "Wall time: 45.7 s\n"
     ]
    },
    {
     "data": {
      "text/plain": [
       "<catboost.core.CatBoostClassifier at 0x7f3be2357700>"
      ]
     },
     "execution_count": 11,
     "metadata": {},
     "output_type": "execute_result"
    }
   ],
   "source": [
    "%%time\n",
    "\n",
    "model = cat.CatBoostClassifier(**cb_params)\n",
    "model.fit(x_train, y_train, eval_set=[(x_train, y_train), (x_valid, y_valid)])"
   ]
  },
  {
   "cell_type": "code",
   "execution_count": 12,
   "id": "japanese-covering",
   "metadata": {},
   "outputs": [
    {
     "name": "stdout",
     "output_type": "stream",
     "text": [
      "Train-score: 0.809, Validation-score: 0.751, Leader_board-score: 0.655\n"
     ]
    }
   ],
   "source": [
    "train_score = roc_auc_score(y_train, model.predict(x_train))\n",
    "valid_score = roc_auc_score(y_valid, model.predict(x_valid))\n",
    "leader_board = roc_auc_score(y_leader_board, model.predict(X_leader_board))\n",
    "\n",
    "print(f\"Train-score: {round(train_score, 3)}, Validation-score: {round(valid_score, 3)}, Leader_board-score: {round(leader_board, 3)}\")\n",
    "\n",
    "result.append({\"method\":\"cat_boost_basic\" ,\"Train-score\" : round(train_score, 3), \"Validation-score\" : round(valid_score, 3),\n",
    "               \"Leader_board-score\" : round(leader_board, 3)    })"
   ]
  },
  {
   "cell_type": "code",
   "execution_count": null,
   "id": "initial-workplace",
   "metadata": {},
   "outputs": [],
   "source": []
  },
  {
   "cell_type": "markdown",
   "id": "ordered-depth",
   "metadata": {},
   "source": [
    "### Задание 1: признак TransactionDT - это смещение в секундах относительно базовой даты. Базовая дата - 2017-12-01, преобразовать признак TransactionDT в datetime, прибавив к базовой дате исходное значение признака. Из полученного признака выделить год, месяц, день недели, час, день."
   ]
  },
  {
   "cell_type": "code",
   "execution_count": 13,
   "id": "regional-confirmation",
   "metadata": {},
   "outputs": [],
   "source": [
    "X['TransactionDT'] = pd.to_datetime(X['TransactionDT'], unit='s', origin='2017-12-01')\n",
    "X_leader_board['TransactionDT'] = pd.to_datetime(X_leader_board['TransactionDT'], unit='s', origin='2017-12-01')"
   ]
  },
  {
   "cell_type": "code",
   "execution_count": 14,
   "id": "advised-recommendation",
   "metadata": {},
   "outputs": [
    {
     "data": {
      "text/html": [
       "<div>\n",
       "<style scoped>\n",
       "    .dataframe tbody tr th:only-of-type {\n",
       "        vertical-align: middle;\n",
       "    }\n",
       "\n",
       "    .dataframe tbody tr th {\n",
       "        vertical-align: top;\n",
       "    }\n",
       "\n",
       "    .dataframe thead th {\n",
       "        text-align: right;\n",
       "    }\n",
       "</style>\n",
       "<table border=\"1\" class=\"dataframe\">\n",
       "  <thead>\n",
       "    <tr style=\"text-align: right;\">\n",
       "      <th></th>\n",
       "      <th>TransactionID</th>\n",
       "      <th>TransactionDT</th>\n",
       "      <th>TransactionAmt</th>\n",
       "      <th>card1</th>\n",
       "      <th>card2</th>\n",
       "      <th>card3</th>\n",
       "      <th>card5</th>\n",
       "      <th>addr1</th>\n",
       "      <th>addr2</th>\n",
       "      <th>dist1</th>\n",
       "      <th>...</th>\n",
       "      <th>M7_T</th>\n",
       "      <th>M8_F</th>\n",
       "      <th>M8_T</th>\n",
       "      <th>M9_F</th>\n",
       "      <th>M9_T</th>\n",
       "      <th>year</th>\n",
       "      <th>month_of_year</th>\n",
       "      <th>day_of_week</th>\n",
       "      <th>hour_of_day</th>\n",
       "      <th>day_of_year</th>\n",
       "    </tr>\n",
       "  </thead>\n",
       "  <tbody>\n",
       "    <tr>\n",
       "      <th>0</th>\n",
       "      <td>2987000</td>\n",
       "      <td>2017-12-02 00:00:00</td>\n",
       "      <td>68.5</td>\n",
       "      <td>13926</td>\n",
       "      <td>NaN</td>\n",
       "      <td>150.0</td>\n",
       "      <td>142.0</td>\n",
       "      <td>315.0</td>\n",
       "      <td>87.0</td>\n",
       "      <td>19.0</td>\n",
       "      <td>...</td>\n",
       "      <td>0</td>\n",
       "      <td>0</td>\n",
       "      <td>0</td>\n",
       "      <td>0</td>\n",
       "      <td>0</td>\n",
       "      <td>2017</td>\n",
       "      <td>12</td>\n",
       "      <td>5</td>\n",
       "      <td>0</td>\n",
       "      <td>2</td>\n",
       "    </tr>\n",
       "    <tr>\n",
       "      <th>1</th>\n",
       "      <td>2987001</td>\n",
       "      <td>2017-12-02 00:00:01</td>\n",
       "      <td>29.0</td>\n",
       "      <td>2755</td>\n",
       "      <td>404.0</td>\n",
       "      <td>150.0</td>\n",
       "      <td>102.0</td>\n",
       "      <td>325.0</td>\n",
       "      <td>87.0</td>\n",
       "      <td>NaN</td>\n",
       "      <td>...</td>\n",
       "      <td>0</td>\n",
       "      <td>0</td>\n",
       "      <td>0</td>\n",
       "      <td>0</td>\n",
       "      <td>0</td>\n",
       "      <td>2017</td>\n",
       "      <td>12</td>\n",
       "      <td>5</td>\n",
       "      <td>0</td>\n",
       "      <td>2</td>\n",
       "    </tr>\n",
       "  </tbody>\n",
       "</table>\n",
       "<p>2 rows × 531 columns</p>\n",
       "</div>"
      ],
      "text/plain": [
       "   TransactionID       TransactionDT  TransactionAmt  card1  card2  card3  \\\n",
       "0        2987000 2017-12-02 00:00:00            68.5  13926    NaN  150.0   \n",
       "1        2987001 2017-12-02 00:00:01            29.0   2755  404.0  150.0   \n",
       "\n",
       "   card5  addr1  addr2  dist1  ...  M7_T  M8_F  M8_T  M9_F  M9_T  year  \\\n",
       "0  142.0  315.0   87.0   19.0  ...     0     0     0     0     0  2017   \n",
       "1  102.0  325.0   87.0    NaN  ...     0     0     0     0     0  2017   \n",
       "\n",
       "   month_of_year  day_of_week  hour_of_day  day_of_year  \n",
       "0             12            5            0            2  \n",
       "1             12            5            0            2  \n",
       "\n",
       "[2 rows x 531 columns]"
      ]
     },
     "execution_count": 14,
     "metadata": {},
     "output_type": "execute_result"
    }
   ],
   "source": [
    "start_date = '2017-12-01'\n",
    "\n",
    "X[\"year\"] = X[\"TransactionDT\"].dt.year\n",
    "X[\"month_of_year\"] = X[\"TransactionDT\"].dt.month\n",
    "X[\"day_of_week\"] = X[\"TransactionDT\"].dt.weekday\n",
    "X[\"hour_of_day\"] = X[\"TransactionDT\"].dt.hour\n",
    "X[\"day_of_year\"] = X[\"TransactionDT\"].dt.day\n",
    "\n",
    "X.head(n=2)"
   ]
  },
  {
   "cell_type": "code",
   "execution_count": 15,
   "id": "intellectual-marking",
   "metadata": {},
   "outputs": [
    {
     "data": {
      "text/html": [
       "<div>\n",
       "<style scoped>\n",
       "    .dataframe tbody tr th:only-of-type {\n",
       "        vertical-align: middle;\n",
       "    }\n",
       "\n",
       "    .dataframe tbody tr th {\n",
       "        vertical-align: top;\n",
       "    }\n",
       "\n",
       "    .dataframe thead th {\n",
       "        text-align: right;\n",
       "    }\n",
       "</style>\n",
       "<table border=\"1\" class=\"dataframe\">\n",
       "  <thead>\n",
       "    <tr style=\"text-align: right;\">\n",
       "      <th></th>\n",
       "      <th>TransactionID</th>\n",
       "      <th>TransactionDT</th>\n",
       "      <th>TransactionAmt</th>\n",
       "      <th>card1</th>\n",
       "      <th>card2</th>\n",
       "      <th>card3</th>\n",
       "      <th>card5</th>\n",
       "      <th>addr1</th>\n",
       "      <th>addr2</th>\n",
       "      <th>dist1</th>\n",
       "      <th>...</th>\n",
       "      <th>M7_T</th>\n",
       "      <th>M8_F</th>\n",
       "      <th>M8_T</th>\n",
       "      <th>M9_F</th>\n",
       "      <th>M9_T</th>\n",
       "      <th>year</th>\n",
       "      <th>month_of_year</th>\n",
       "      <th>day_of_week</th>\n",
       "      <th>hour_of_day</th>\n",
       "      <th>day_of_year</th>\n",
       "    </tr>\n",
       "  </thead>\n",
       "  <tbody>\n",
       "    <tr>\n",
       "      <th>0</th>\n",
       "      <td>3287000</td>\n",
       "      <td>2018-02-24 19:43:58</td>\n",
       "      <td>226.0</td>\n",
       "      <td>12473</td>\n",
       "      <td>555.0</td>\n",
       "      <td>150.0</td>\n",
       "      <td>226.0</td>\n",
       "      <td>299.0</td>\n",
       "      <td>87.0</td>\n",
       "      <td>116.0</td>\n",
       "      <td>...</td>\n",
       "      <td>0</td>\n",
       "      <td>1</td>\n",
       "      <td>0</td>\n",
       "      <td>0</td>\n",
       "      <td>1</td>\n",
       "      <td>2018</td>\n",
       "      <td>2</td>\n",
       "      <td>5</td>\n",
       "      <td>19</td>\n",
       "      <td>24</td>\n",
       "    </tr>\n",
       "    <tr>\n",
       "      <th>1</th>\n",
       "      <td>3287001</td>\n",
       "      <td>2018-02-24 19:44:14</td>\n",
       "      <td>3072.0</td>\n",
       "      <td>15651</td>\n",
       "      <td>417.0</td>\n",
       "      <td>150.0</td>\n",
       "      <td>226.0</td>\n",
       "      <td>330.0</td>\n",
       "      <td>87.0</td>\n",
       "      <td>NaN</td>\n",
       "      <td>...</td>\n",
       "      <td>0</td>\n",
       "      <td>0</td>\n",
       "      <td>0</td>\n",
       "      <td>0</td>\n",
       "      <td>0</td>\n",
       "      <td>2018</td>\n",
       "      <td>2</td>\n",
       "      <td>5</td>\n",
       "      <td>19</td>\n",
       "      <td>24</td>\n",
       "    </tr>\n",
       "  </tbody>\n",
       "</table>\n",
       "<p>2 rows × 531 columns</p>\n",
       "</div>"
      ],
      "text/plain": [
       "   TransactionID       TransactionDT  TransactionAmt  card1  card2  card3  \\\n",
       "0        3287000 2018-02-24 19:43:58           226.0  12473  555.0  150.0   \n",
       "1        3287001 2018-02-24 19:44:14          3072.0  15651  417.0  150.0   \n",
       "\n",
       "   card5  addr1  addr2  dist1  ...  M7_T  M8_F  M8_T  M9_F  M9_T  year  \\\n",
       "0  226.0  299.0   87.0  116.0  ...     0     1     0     0     1  2018   \n",
       "1  226.0  330.0   87.0    NaN  ...     0     0     0     0     0  2018   \n",
       "\n",
       "   month_of_year  day_of_week  hour_of_day  day_of_year  \n",
       "0              2            5           19           24  \n",
       "1              2            5           19           24  \n",
       "\n",
       "[2 rows x 531 columns]"
      ]
     },
     "execution_count": 15,
     "metadata": {},
     "output_type": "execute_result"
    }
   ],
   "source": [
    "start_date = '2017-12-01'\n",
    "\n",
    "X_leader_board[\"year\"] = X_leader_board[\"TransactionDT\"].dt.year\n",
    "X_leader_board[\"month_of_year\"] = X_leader_board[\"TransactionDT\"].dt.month\n",
    "X_leader_board[\"day_of_week\"] = X_leader_board[\"TransactionDT\"].dt.weekday\n",
    "X_leader_board[\"hour_of_day\"] = X_leader_board[\"TransactionDT\"].dt.hour\n",
    "X_leader_board[\"day_of_year\"] = X_leader_board[\"TransactionDT\"].dt.day\n",
    "\n",
    "X_leader_board.head(n=2)"
   ]
  },
  {
   "cell_type": "code",
   "execution_count": 16,
   "id": "killing-broadcasting",
   "metadata": {},
   "outputs": [],
   "source": [
    "X = X.drop('TransactionDT', axis=1)\n",
    "X_leader_board = X_leader_board.drop('TransactionDT', axis=1)"
   ]
  },
  {
   "cell_type": "code",
   "execution_count": 17,
   "id": "noted-germany",
   "metadata": {},
   "outputs": [],
   "source": [
    "x_train, x_valid, y_train, y_valid = train_test_split(X, \n",
    "                                                    y, test_size=0.3, random_state=0)"
   ]
  },
  {
   "cell_type": "code",
   "execution_count": null,
   "id": "legendary-probability",
   "metadata": {},
   "outputs": [],
   "source": []
  },
  {
   "cell_type": "code",
   "execution_count": null,
   "id": "accredited-grade",
   "metadata": {
    "tags": []
   },
   "outputs": [],
   "source": []
  },
  {
   "cell_type": "code",
   "execution_count": 18,
   "id": "adult-intersection",
   "metadata": {},
   "outputs": [
    {
     "name": "stdout",
     "output_type": "stream",
     "text": [
      "0:\ttest: 0.7434256\ttest1: 0.7287194\tbest: 0.7287194 (0)\ttotal: 54.7ms\tremaining: 9m 6s\n",
      "200:\ttest: 0.9226335\ttest1: 0.9089143\tbest: 0.9089143 (200)\ttotal: 8.28s\tremaining: 6m 43s\n",
      "400:\ttest: 0.9403300\ttest1: 0.9207312\tbest: 0.9207312 (400)\ttotal: 16.6s\tremaining: 6m 37s\n",
      "600:\ttest: 0.9507563\ttest1: 0.9271339\tbest: 0.9271339 (600)\ttotal: 24.9s\tremaining: 6m 29s\n",
      "800:\ttest: 0.9573399\ttest1: 0.9310478\tbest: 0.9311295 (789)\ttotal: 33.1s\tremaining: 6m 20s\n",
      "1000:\ttest: 0.9619992\ttest1: 0.9334918\tbest: 0.9335198 (996)\ttotal: 41.3s\tremaining: 6m 10s\n",
      "1200:\ttest: 0.9659827\ttest1: 0.9348924\tbest: 0.9348955 (1194)\ttotal: 49.5s\tremaining: 6m 2s\n",
      "Stopped by overfitting detector  (50 iterations wait)\n",
      "\n",
      "bestTest = 0.9356886527\n",
      "bestIteration = 1245\n",
      "\n",
      "Shrink model to first 1246 iterations.\n",
      "CPU times: user 8min 48s, sys: 34 s, total: 9min 22s\n",
      "Wall time: 54.4 s\n"
     ]
    },
    {
     "data": {
      "text/plain": [
       "<catboost.core.CatBoostClassifier at 0x7f3be26ab250>"
      ]
     },
     "execution_count": 18,
     "metadata": {},
     "output_type": "execute_result"
    }
   ],
   "source": [
    "%%time\n",
    "\n",
    "model = cat.CatBoostClassifier(**cb_params)\n",
    "model.fit(x_train, y_train, eval_set=[(x_train, y_train), (x_valid, y_valid)])"
   ]
  },
  {
   "cell_type": "code",
   "execution_count": 19,
   "id": "defensive-bread",
   "metadata": {},
   "outputs": [
    {
     "name": "stdout",
     "output_type": "stream",
     "text": [
      "Train-score: 0.822, Validation-score: 0.751, Leader_board-score: 0.656\n"
     ]
    }
   ],
   "source": [
    "train_score = roc_auc_score(y_train, model.predict(x_train))\n",
    "valid_score = roc_auc_score(y_valid, model.predict(x_valid))\n",
    "leader_board = roc_auc_score(y_leader_board, model.predict(X_leader_board))\n",
    "\n",
    "print(f\"Train-score: {round(train_score, 3)}, Validation-score: {round(valid_score, 3)}, Leader_board-score: {round(leader_board, 3)}\")\n",
    "\n",
    "result.append({\"method\":\"cat_boost_add_datetime_features\" ,\"Train-score\" : round(train_score, 3), \"Validation-score\" : round(valid_score, 3),\n",
    "               \"Leader_board-score\" : round(leader_board, 3)    })"
   ]
  },
  {
   "cell_type": "code",
   "execution_count": 20,
   "id": "violent-kernel",
   "metadata": {},
   "outputs": [
    {
     "data": {
      "text/html": [
       "<div>\n",
       "<style scoped>\n",
       "    .dataframe tbody tr th:only-of-type {\n",
       "        vertical-align: middle;\n",
       "    }\n",
       "\n",
       "    .dataframe tbody tr th {\n",
       "        vertical-align: top;\n",
       "    }\n",
       "\n",
       "    .dataframe thead th {\n",
       "        text-align: right;\n",
       "    }\n",
       "</style>\n",
       "<table border=\"1\" class=\"dataframe\">\n",
       "  <thead>\n",
       "    <tr style=\"text-align: right;\">\n",
       "      <th>method</th>\n",
       "      <th>cat_boost_add_datetime_features</th>\n",
       "      <th>cat_boost_basic</th>\n",
       "    </tr>\n",
       "  </thead>\n",
       "  <tbody>\n",
       "    <tr>\n",
       "      <th>Leader_board-score</th>\n",
       "      <td>0.656</td>\n",
       "      <td>0.655</td>\n",
       "    </tr>\n",
       "    <tr>\n",
       "      <th>Train-score</th>\n",
       "      <td>0.822</td>\n",
       "      <td>0.809</td>\n",
       "    </tr>\n",
       "    <tr>\n",
       "      <th>Validation-score</th>\n",
       "      <td>0.751</td>\n",
       "      <td>0.751</td>\n",
       "    </tr>\n",
       "  </tbody>\n",
       "</table>\n",
       "</div>"
      ],
      "text/plain": [
       "method              cat_boost_add_datetime_features  cat_boost_basic\n",
       "Leader_board-score                            0.656            0.655\n",
       "Train-score                                   0.822            0.809\n",
       "Validation-score                              0.751            0.751"
      ]
     },
     "execution_count": 20,
     "metadata": {},
     "output_type": "execute_result"
    }
   ],
   "source": [
    "models_results = pd.DataFrame(result)\n",
    "pd.pivot_table(models_results, columns = 'method')"
   ]
  },
  {
   "cell_type": "markdown",
   "id": "romance-surname",
   "metadata": {},
   "source": [
    "Вывод: Добавив признаки на основе времени точность модели немного улучшилась"
   ]
  },
  {
   "cell_type": "markdown",
   "id": "unknown-confidence",
   "metadata": {},
   "source": [
    "### Задание 2: сделать конкатенацию признаков\n",
    "* card1 + card2;\n",
    "* card1 + card2 + card_3 + card_5;\n",
    "* card1 + card2 + card_3 + card_5 + addr1 + addr2\n",
    "\n",
    "Рассматривать их как категориальных признаки."
   ]
  },
  {
   "cell_type": "code",
   "execution_count": null,
   "id": "alternate-november",
   "metadata": {},
   "outputs": [],
   "source": []
  },
  {
   "cell_type": "code",
   "execution_count": 21,
   "id": "outstanding-prototype",
   "metadata": {},
   "outputs": [],
   "source": [
    "card1_2 = X[[\"card1\", \"card2\"]].astype('str')\n",
    "X[\"card1_2\"] = card1_2[\"card1\"] + \" | \" + card1_2[\"card2\"]\n",
    "card1_2_lb = X_leader_board[[\"card1\", \"card2\"]].astype('str')\n",
    "X_leader_board['card1_2'] = card1_2_lb[\"card1\"] + \" | \" + card1_2_lb[\"card2\"]\n"
   ]
  },
  {
   "cell_type": "code",
   "execution_count": 22,
   "id": "least-wildlife",
   "metadata": {},
   "outputs": [],
   "source": [
    "card1_2_3_5 = X[[\"card1\", \"card2\", \"card3\", \"card5\"]].astype('str')\n",
    "X[\"card1_2_3_5\"] = card1_2_3_5[\"card1\"] + \" | \" + card1_2_3_5[\"card2\"] \\\n",
    "    + \" | \" + card1_2_3_5[\"card3\"] + \" | \" + card1_2_3_5[\"card3\"]\n",
    "\n",
    "card1_2_3_5_lb = X_leader_board[[\"card1\", \"card2\", \"card3\", \"card5\"]].astype('str')\n",
    "X_leader_board[\"card1_2_3_5\"] = card1_2_3_5_lb[\"card1\"] + \" | \" + card1_2_3_5_lb[\"card2\"] \\\n",
    "    + \" | \" + card1_2_3_5_lb[\"card3\"] + \" | \" + card1_2_3_5_lb[\"card3\"]\n",
    "\n",
    "\n",
    "    "
   ]
  },
  {
   "cell_type": "code",
   "execution_count": 23,
   "id": "bored-business",
   "metadata": {},
   "outputs": [],
   "source": [
    "card1_2_3_5_adr1_2 = X[[\"card1\", \"card2\", \"card3\", \"card5\", \"addr1\", \"addr2\"]].astype('str')\n",
    "X[\"card1_2_3_5_adr1_2\"] = card1_2_3_5_adr1_2[\"card1\"] + \" | \" + card1_2_3_5_adr1_2[\"card2\"] \\\n",
    "    + \" | \" + card1_2_3_5_adr1_2[\"card3\"] + \" | \" + card1_2_3_5_adr1_2[\"card5\"] \\\n",
    "    + \" | \" + card1_2_3_5_adr1_2[\"addr1\"] + \" | \" + card1_2_3_5_adr1_2[\"addr2\"]\n",
    "\n",
    "card1_2_3_5_adr1_2_lb = X_leader_board[[\"card1\", \"card2\", \"card3\", \"card5\", \"addr1\", \"addr2\"]].astype('str')\n",
    "X_leader_board[\"card1_2_3_5_adr1_2\"] = card1_2_3_5_adr1_2_lb[\"card1\"] + \" | \" + card1_2_3_5_adr1_2_lb[\"card2\"] \\\n",
    "    + \" | \" + card1_2_3_5_adr1_2_lb[\"card3\"] + \" | \" + card1_2_3_5_adr1_2_lb[\"card5\"] \\\n",
    "    + \" | \" + card1_2_3_5_adr1_2_lb[\"addr1\"] + \" | \" + card1_2_3_5_adr1_2_lb[\"addr2\"]\n",
    "\n",
    "\n"
   ]
  },
  {
   "cell_type": "code",
   "execution_count": 24,
   "id": "corresponding-trauma",
   "metadata": {},
   "outputs": [],
   "source": [
    "cat_features = ('card1_2','card1_2_3_5', 'card1_2_3_5_adr1_2' )"
   ]
  },
  {
   "cell_type": "code",
   "execution_count": 25,
   "id": "wound-assurance",
   "metadata": {},
   "outputs": [],
   "source": [
    "x_train, x_valid, y_train, y_valid = train_test_split(X, \n",
    "                                                    y, test_size=0.3, random_state=0)"
   ]
  },
  {
   "cell_type": "code",
   "execution_count": null,
   "id": "unauthorized-lawsuit",
   "metadata": {},
   "outputs": [],
   "source": []
  },
  {
   "cell_type": "code",
   "execution_count": 26,
   "id": "addressed-compiler",
   "metadata": {},
   "outputs": [
    {
     "name": "stdout",
     "output_type": "stream",
     "text": [
      "0:\ttest: 0.6916088\ttest1: 0.6825916\tbest: 0.6825916 (0)\ttotal: 103ms\tremaining: 17m 8s\n",
      "200:\ttest: 0.9724229\ttest1: 0.9421246\tbest: 0.9421246 (200)\ttotal: 16.2s\tremaining: 13m 9s\n",
      "400:\ttest: 0.9775725\ttest1: 0.9464941\tbest: 0.9467362 (390)\ttotal: 32.5s\tremaining: 12m 57s\n",
      "Stopped by overfitting detector  (50 iterations wait)\n",
      "\n",
      "bestTest = 0.9480723159\n",
      "bestIteration = 494\n",
      "\n",
      "Shrink model to first 495 iterations.\n",
      "CPU times: user 6min 34s, sys: 52.6 s, total: 7min 27s\n",
      "Wall time: 45.7 s\n"
     ]
    },
    {
     "data": {
      "text/plain": [
       "<catboost.core.CatBoostClassifier at 0x7f3be2385df0>"
      ]
     },
     "execution_count": 26,
     "metadata": {},
     "output_type": "execute_result"
    }
   ],
   "source": [
    "%%time\n",
    "\n",
    "model = cat.CatBoostClassifier(**cb_params)\n",
    "model.fit(x_train, y_train, eval_set=[(x_train, y_train), (x_valid, y_valid)], cat_features=cat_features)"
   ]
  },
  {
   "cell_type": "code",
   "execution_count": 27,
   "id": "progressive-interest",
   "metadata": {},
   "outputs": [
    {
     "name": "stdout",
     "output_type": "stream",
     "text": [
      "Train-score: 0.855, Validation-score: 0.8, Leader_board-score: 0.663\n"
     ]
    }
   ],
   "source": [
    "train_score = roc_auc_score(y_train, model.predict(x_train))\n",
    "valid_score = roc_auc_score(y_valid, model.predict(x_valid))\n",
    "leader_board = roc_auc_score(y_leader_board, model.predict(X_leader_board))\n",
    "\n",
    "print(f\"Train-score: {round(train_score, 3)}, Validation-score: {round(valid_score, 3)}, Leader_board-score: {round(leader_board, 3)}\")\n",
    "\n",
    "result.append({\"method\":\"cat_boost_add_datetime_features_and_card_addr_features_\" ,\"Train-score\" : round(train_score, 3), \"Validation-score\" : round(valid_score, 3),\n",
    "               \"Leader_board-score\" : round(leader_board, 3)    })"
   ]
  },
  {
   "cell_type": "code",
   "execution_count": 28,
   "id": "exterior-strip",
   "metadata": {},
   "outputs": [
    {
     "data": {
      "text/html": [
       "<div>\n",
       "<style scoped>\n",
       "    .dataframe tbody tr th:only-of-type {\n",
       "        vertical-align: middle;\n",
       "    }\n",
       "\n",
       "    .dataframe tbody tr th {\n",
       "        vertical-align: top;\n",
       "    }\n",
       "\n",
       "    .dataframe thead th {\n",
       "        text-align: right;\n",
       "    }\n",
       "</style>\n",
       "<table border=\"1\" class=\"dataframe\">\n",
       "  <thead>\n",
       "    <tr style=\"text-align: right;\">\n",
       "      <th></th>\n",
       "      <th>method</th>\n",
       "      <th>Train-score</th>\n",
       "      <th>Validation-score</th>\n",
       "      <th>Leader_board-score</th>\n",
       "    </tr>\n",
       "  </thead>\n",
       "  <tbody>\n",
       "    <tr>\n",
       "      <th>0</th>\n",
       "      <td>cat_boost_basic</td>\n",
       "      <td>0.809</td>\n",
       "      <td>0.751</td>\n",
       "      <td>0.655</td>\n",
       "    </tr>\n",
       "    <tr>\n",
       "      <th>1</th>\n",
       "      <td>cat_boost_add_datetime_features</td>\n",
       "      <td>0.822</td>\n",
       "      <td>0.751</td>\n",
       "      <td>0.656</td>\n",
       "    </tr>\n",
       "    <tr>\n",
       "      <th>2</th>\n",
       "      <td>cat_boost_add_datetime_features_and_card_addr_...</td>\n",
       "      <td>0.855</td>\n",
       "      <td>0.800</td>\n",
       "      <td>0.663</td>\n",
       "    </tr>\n",
       "  </tbody>\n",
       "</table>\n",
       "</div>"
      ],
      "text/plain": [
       "                                              method  Train-score  \\\n",
       "0                                    cat_boost_basic        0.809   \n",
       "1                    cat_boost_add_datetime_features        0.822   \n",
       "2  cat_boost_add_datetime_features_and_card_addr_...        0.855   \n",
       "\n",
       "   Validation-score  Leader_board-score  \n",
       "0             0.751               0.655  \n",
       "1             0.751               0.656  \n",
       "2             0.800               0.663  "
      ]
     },
     "execution_count": 28,
     "metadata": {},
     "output_type": "execute_result"
    }
   ],
   "source": [
    "models_results = pd.DataFrame(result)\n",
    "models_results"
   ]
  },
  {
   "cell_type": "markdown",
   "id": "novel-deputy",
   "metadata": {},
   "source": [
    "Вывод : добавление признаков ,\n",
    "* card1 + card2;\n",
    "* card1 + card2 + card_3 + card_5;\n",
    "* card1 + card2 + card_3 + card_5 + addr1 + addr2\n",
    "* улучшило модель \n"
   ]
  },
  {
   "cell_type": "code",
   "execution_count": null,
   "id": "accepted-solomon",
   "metadata": {},
   "outputs": [],
   "source": []
  },
  {
   "cell_type": "markdown",
   "id": "documented-miami",
   "metadata": {},
   "source": [
    "Задание 3: Сделать FrequencyEncoder для признаков card1 - card6, addr1, addr2."
   ]
  },
  {
   "cell_type": "code",
   "execution_count": 29,
   "id": "serial-foster",
   "metadata": {},
   "outputs": [],
   "source": [
    "features_list = ('card1', 'card2', 'card3', 'card5', 'addr1', 'addr2')\n",
    "\n",
    "def freq_encoder(df,features_list):\n",
    "    \n",
    "    for item in features_list:\n",
    "        freq_encoder = df[item].value_counts(normalize=True)\n",
    "        df[item+\"_freq_enc\"] = df[item].map(freq_encoder)\n",
    "    \n",
    "    return df.head(2)\n"
   ]
  },
  {
   "cell_type": "code",
   "execution_count": 30,
   "id": "champion-exemption",
   "metadata": {
    "tags": []
   },
   "outputs": [
    {
     "data": {
      "text/html": [
       "<div>\n",
       "<style scoped>\n",
       "    .dataframe tbody tr th:only-of-type {\n",
       "        vertical-align: middle;\n",
       "    }\n",
       "\n",
       "    .dataframe tbody tr th {\n",
       "        vertical-align: top;\n",
       "    }\n",
       "\n",
       "    .dataframe thead th {\n",
       "        text-align: right;\n",
       "    }\n",
       "</style>\n",
       "<table border=\"1\" class=\"dataframe\">\n",
       "  <thead>\n",
       "    <tr style=\"text-align: right;\">\n",
       "      <th></th>\n",
       "      <th>TransactionID</th>\n",
       "      <th>TransactionAmt</th>\n",
       "      <th>card1</th>\n",
       "      <th>card2</th>\n",
       "      <th>card3</th>\n",
       "      <th>card5</th>\n",
       "      <th>addr1</th>\n",
       "      <th>addr2</th>\n",
       "      <th>dist1</th>\n",
       "      <th>dist2</th>\n",
       "      <th>...</th>\n",
       "      <th>day_of_year</th>\n",
       "      <th>card1_2</th>\n",
       "      <th>card1_2_3_5</th>\n",
       "      <th>card1_2_3_5_adr1_2</th>\n",
       "      <th>card1_freq_enc</th>\n",
       "      <th>card2_freq_enc</th>\n",
       "      <th>card3_freq_enc</th>\n",
       "      <th>card5_freq_enc</th>\n",
       "      <th>addr1_freq_enc</th>\n",
       "      <th>addr2_freq_enc</th>\n",
       "    </tr>\n",
       "  </thead>\n",
       "  <tbody>\n",
       "    <tr>\n",
       "      <th>0</th>\n",
       "      <td>3287000</td>\n",
       "      <td>226.0</td>\n",
       "      <td>12473</td>\n",
       "      <td>555.0</td>\n",
       "      <td>150.0</td>\n",
       "      <td>226.0</td>\n",
       "      <td>299.0</td>\n",
       "      <td>87.0</td>\n",
       "      <td>116.0</td>\n",
       "      <td>NaN</td>\n",
       "      <td>...</td>\n",
       "      <td>24</td>\n",
       "      <td>12473 | 555.0</td>\n",
       "      <td>12473 | 555.0 | 150.0 | 150.0</td>\n",
       "      <td>12473 | 555.0 | 150.0 | 226.0 | 299.0 | 87.0</td>\n",
       "      <td>0.00032</td>\n",
       "      <td>0.072942</td>\n",
       "      <td>0.881635</td>\n",
       "      <td>0.495638</td>\n",
       "      <td>0.083024</td>\n",
       "      <td>0.994213</td>\n",
       "    </tr>\n",
       "    <tr>\n",
       "      <th>1</th>\n",
       "      <td>3287001</td>\n",
       "      <td>3072.0</td>\n",
       "      <td>15651</td>\n",
       "      <td>417.0</td>\n",
       "      <td>150.0</td>\n",
       "      <td>226.0</td>\n",
       "      <td>330.0</td>\n",
       "      <td>87.0</td>\n",
       "      <td>NaN</td>\n",
       "      <td>NaN</td>\n",
       "      <td>...</td>\n",
       "      <td>24</td>\n",
       "      <td>15651 | 417.0</td>\n",
       "      <td>15651 | 417.0 | 150.0 | 150.0</td>\n",
       "      <td>15651 | 417.0 | 150.0 | 226.0 | 330.0 | 87.0</td>\n",
       "      <td>0.00269</td>\n",
       "      <td>0.004261</td>\n",
       "      <td>0.881635</td>\n",
       "      <td>0.495638</td>\n",
       "      <td>0.048890</td>\n",
       "      <td>0.994213</td>\n",
       "    </tr>\n",
       "  </tbody>\n",
       "</table>\n",
       "<p>2 rows × 539 columns</p>\n",
       "</div>"
      ],
      "text/plain": [
       "   TransactionID  TransactionAmt  card1  card2  card3  card5  addr1  addr2  \\\n",
       "0        3287000           226.0  12473  555.0  150.0  226.0  299.0   87.0   \n",
       "1        3287001          3072.0  15651  417.0  150.0  226.0  330.0   87.0   \n",
       "\n",
       "   dist1  dist2  ...  day_of_year        card1_2  \\\n",
       "0  116.0    NaN  ...           24  12473 | 555.0   \n",
       "1    NaN    NaN  ...           24  15651 | 417.0   \n",
       "\n",
       "                     card1_2_3_5  \\\n",
       "0  12473 | 555.0 | 150.0 | 150.0   \n",
       "1  15651 | 417.0 | 150.0 | 150.0   \n",
       "\n",
       "                             card1_2_3_5_adr1_2  card1_freq_enc  \\\n",
       "0  12473 | 555.0 | 150.0 | 226.0 | 299.0 | 87.0         0.00032   \n",
       "1  15651 | 417.0 | 150.0 | 226.0 | 330.0 | 87.0         0.00269   \n",
       "\n",
       "   card2_freq_enc  card3_freq_enc  card5_freq_enc  addr1_freq_enc  \\\n",
       "0        0.072942        0.881635        0.495638        0.083024   \n",
       "1        0.004261        0.881635        0.495638        0.048890   \n",
       "\n",
       "   addr2_freq_enc  \n",
       "0        0.994213  \n",
       "1        0.994213  \n",
       "\n",
       "[2 rows x 539 columns]"
      ]
     },
     "execution_count": 30,
     "metadata": {},
     "output_type": "execute_result"
    }
   ],
   "source": [
    "freq_encoder(X, features_list)\n",
    "freq_encoder(X_leader_board, features_list)\n"
   ]
  },
  {
   "cell_type": "code",
   "execution_count": 31,
   "id": "gentle-calculator",
   "metadata": {},
   "outputs": [],
   "source": [
    "x_train, x_valid, y_train, y_valid = train_test_split(X, \n",
    "                                                    y, test_size=0.3, random_state=0)"
   ]
  },
  {
   "cell_type": "code",
   "execution_count": 32,
   "id": "attractive-spanish",
   "metadata": {},
   "outputs": [
    {
     "name": "stdout",
     "output_type": "stream",
     "text": [
      "0:\ttest: 0.6125504\ttest1: 0.6060996\tbest: 0.6060996 (0)\ttotal: 99.5ms\tremaining: 16m 34s\n",
      "200:\ttest: 0.9695010\ttest1: 0.9403217\tbest: 0.9403217 (200)\ttotal: 16.6s\tremaining: 13m 30s\n",
      "400:\ttest: 0.9794021\ttest1: 0.9492791\tbest: 0.9493424 (390)\ttotal: 31.9s\tremaining: 12m 43s\n",
      "Stopped by overfitting detector  (50 iterations wait)\n",
      "\n",
      "bestTest = 0.9505020029\n",
      "bestIteration = 549\n",
      "\n",
      "Shrink model to first 550 iterations.\n",
      "CPU times: user 7min 9s, sys: 51.2 s, total: 8min\n",
      "Wall time: 49.1 s\n"
     ]
    },
    {
     "data": {
      "text/plain": [
       "<catboost.core.CatBoostClassifier at 0x7f3be2322670>"
      ]
     },
     "execution_count": 32,
     "metadata": {},
     "output_type": "execute_result"
    }
   ],
   "source": [
    "%%time\n",
    "\n",
    "model = cat.CatBoostClassifier(**cb_params)\n",
    "model.fit(x_train, y_train, eval_set=[(x_train, y_train), (x_valid, y_valid)], cat_features=cat_features)"
   ]
  },
  {
   "cell_type": "code",
   "execution_count": 33,
   "id": "swiss-processing",
   "metadata": {},
   "outputs": [
    {
     "name": "stdout",
     "output_type": "stream",
     "text": [
      "Train-score: 0.862, Validation-score: 0.804, Leader_board-score: 0.661\n"
     ]
    }
   ],
   "source": [
    "train_score = roc_auc_score(y_train, model.predict(x_train))\n",
    "valid_score = roc_auc_score(y_valid, model.predict(x_valid))\n",
    "leader_board = roc_auc_score(y_leader_board, model.predict(X_leader_board))\n",
    "\n",
    "print(f\"Train-score: {round(train_score, 3)}, Validation-score: {round(valid_score, 3)}, Leader_board-score: {round(leader_board, 3)}\")\n",
    "\n",
    "result.append({\"method\":\"cat_boost_all_before_and_freq_enc\" ,\"Train-score\" : round(train_score, 3), \"Validation-score\" : round(valid_score, 3),\n",
    "               \"Leader_board-score\" : round(leader_board, 3)    })"
   ]
  },
  {
   "cell_type": "code",
   "execution_count": 34,
   "id": "female-rapid",
   "metadata": {},
   "outputs": [
    {
     "data": {
      "text/html": [
       "<div>\n",
       "<style scoped>\n",
       "    .dataframe tbody tr th:only-of-type {\n",
       "        vertical-align: middle;\n",
       "    }\n",
       "\n",
       "    .dataframe tbody tr th {\n",
       "        vertical-align: top;\n",
       "    }\n",
       "\n",
       "    .dataframe thead th {\n",
       "        text-align: right;\n",
       "    }\n",
       "</style>\n",
       "<table border=\"1\" class=\"dataframe\">\n",
       "  <thead>\n",
       "    <tr style=\"text-align: right;\">\n",
       "      <th></th>\n",
       "      <th>method</th>\n",
       "      <th>Train-score</th>\n",
       "      <th>Validation-score</th>\n",
       "      <th>Leader_board-score</th>\n",
       "    </tr>\n",
       "  </thead>\n",
       "  <tbody>\n",
       "    <tr>\n",
       "      <th>0</th>\n",
       "      <td>cat_boost_basic</td>\n",
       "      <td>0.809</td>\n",
       "      <td>0.751</td>\n",
       "      <td>0.655</td>\n",
       "    </tr>\n",
       "    <tr>\n",
       "      <th>1</th>\n",
       "      <td>cat_boost_add_datetime_features</td>\n",
       "      <td>0.822</td>\n",
       "      <td>0.751</td>\n",
       "      <td>0.656</td>\n",
       "    </tr>\n",
       "    <tr>\n",
       "      <th>2</th>\n",
       "      <td>cat_boost_add_datetime_features_and_card_addr_...</td>\n",
       "      <td>0.855</td>\n",
       "      <td>0.800</td>\n",
       "      <td>0.663</td>\n",
       "    </tr>\n",
       "    <tr>\n",
       "      <th>3</th>\n",
       "      <td>cat_boost_all_before_and_freq_enc</td>\n",
       "      <td>0.862</td>\n",
       "      <td>0.804</td>\n",
       "      <td>0.661</td>\n",
       "    </tr>\n",
       "  </tbody>\n",
       "</table>\n",
       "</div>"
      ],
      "text/plain": [
       "                                              method  Train-score  \\\n",
       "0                                    cat_boost_basic        0.809   \n",
       "1                    cat_boost_add_datetime_features        0.822   \n",
       "2  cat_boost_add_datetime_features_and_card_addr_...        0.855   \n",
       "3                  cat_boost_all_before_and_freq_enc        0.862   \n",
       "\n",
       "   Validation-score  Leader_board-score  \n",
       "0             0.751               0.655  \n",
       "1             0.751               0.656  \n",
       "2             0.800               0.663  \n",
       "3             0.804               0.661  "
      ]
     },
     "execution_count": 34,
     "metadata": {},
     "output_type": "execute_result"
    }
   ],
   "source": [
    "models_results = pd.DataFrame(result)\n",
    "models_results"
   ]
  }
 ],
 "metadata": {
  "kernelspec": {
   "display_name": "Python 3",
   "language": "python",
   "name": "python3"
  },
  "language_info": {
   "codemirror_mode": {
    "name": "ipython",
    "version": 3
   },
   "file_extension": ".py",
   "mimetype": "text/x-python",
   "name": "python",
   "nbconvert_exporter": "python",
   "pygments_lexer": "ipython3",
   "version": "3.8.8"
  }
 },
 "nbformat": 4,
 "nbformat_minor": 5
}
